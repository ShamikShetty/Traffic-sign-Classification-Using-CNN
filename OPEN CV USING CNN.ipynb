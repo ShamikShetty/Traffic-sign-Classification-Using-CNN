{
 "cells": [
  {
   "cell_type": "code",
   "execution_count": 32,
   "metadata": {},
   "outputs": [],
   "source": [
    "import keras\n",
    "import numpy as np \n",
    "import pandas as pd \n",
    "import matplotlib.pyplot as plt\n",
    "import cv2\n",
    "import tensorflow as tf\n",
    "from PIL import Image\n",
    "from tensorflow.keras.preprocessing import image\n",
    "import os\n",
    "from sklearn.model_selection import train_test_split\n",
    "from tensorflow.keras.utils import to_categorical\n",
    "from keras.models import Sequential, load_model\n",
    "from keras.layers import Conv2D, MaxPooling2D, Dense, Flatten, Dropout,Activation\n",
    "import random\n",
    "from tensorflow.keras.preprocessing.image import ImageDataGenerator,load_img"
   ]
  },
  {
   "cell_type": "code",
   "execution_count": 6,
   "metadata": {},
   "outputs": [],
   "source": [
    "from PIL import Image\n",
    "cur_path = r'C:\\Users\\Shamik Shetty\\opencv Project\\archive (29)'\n"
   ]
  },
  {
   "cell_type": "code",
   "execution_count": 7,
   "metadata": {},
   "outputs": [],
   "source": [
    "data = []\n",
    "labels = []\n",
    "classes = 43\n",
    " \n",
    "\n",
    "#Retrieving the images and their labels \n",
    "for i in range(classes):\n",
    "    path = os.path.join(cur_path,'train',str(i))\n",
    "    images = os.listdir(path)\n",
    "\n",
    "    for a in images:\n",
    "        try:\n",
    "            image = Image.open(path + '\\\\'+ a)\n",
    "            image = image.resize((30,30))\n",
    "            image = np.array(image)\n",
    "    \n",
    "            #data.append(image)\n",
    "            #labels.append(i)\n",
    "            data.append([image,i]) #appending all value together \n",
    "        except:\n",
    "            print(\"Error loading image\")"
   ]
  },
  {
   "cell_type": "code",
   "execution_count": 8,
   "metadata": {},
   "outputs": [],
   "source": [
    "random.shuffle(data)"
   ]
  },
  {
   "cell_type": "code",
   "execution_count": 9,
   "metadata": {},
   "outputs": [
    {
     "name": "stdout",
     "output_type": "stream",
     "text": [
      "39209\n"
     ]
    }
   ],
   "source": [
    "print(len(data))"
   ]
  },
  {
   "cell_type": "code",
   "execution_count": 10,
   "metadata": {},
   "outputs": [],
   "source": [
    "x = []\n",
    "y = []\n",
    "\n",
    "for features,label in data:\n",
    "    x.append(features)\n",
    "    y.append(label)"
   ]
  },
  {
   "cell_type": "code",
   "execution_count": 11,
   "metadata": {},
   "outputs": [],
   "source": [
    "#Converting lists into numpy arrays\n",
    "x = np.array(x)\n",
    "y = np.array(y)"
   ]
  },
  {
   "cell_type": "code",
   "execution_count": 12,
   "metadata": {},
   "outputs": [],
   "source": [
    "X_train, X_val, y_train, y_val = train_test_split(x, y, test_size=0.2, random_state=42)"
   ]
  },
  {
   "cell_type": "code",
   "execution_count": 13,
   "metadata": {},
   "outputs": [],
   "source": [
    "X_train = X_train/255.0\n",
    "X_val = X_val/255.0"
   ]
  },
  {
   "cell_type": "code",
   "execution_count": 14,
   "metadata": {},
   "outputs": [],
   "source": [
    "#x = np.array(x).reshape(-1, 30, 30, 1) "
   ]
  },
  {
   "cell_type": "code",
   "execution_count": 15,
   "metadata": {},
   "outputs": [
    {
     "name": "stdout",
     "output_type": "stream",
     "text": [
      "Shape of train images is: (31367, 30, 30, 3)\n",
      "Shape of labels is: (31367,)\n"
     ]
    }
   ],
   "source": [
    "print(\"Shape of train images is:\", X_train.shape)\n",
    "print(\"Shape of labels is:\", y_train.shape)"
   ]
  },
  {
   "cell_type": "code",
   "execution_count": 16,
   "metadata": {},
   "outputs": [],
   "source": [
    "#Building the model\n",
    "model = Sequential()\n",
    "model.add(Conv2D(32, (3, 3), input_shape=(30, 30, 3), padding='same'))\n",
    "model.add(Activation('relu'))\n",
    "model.add(MaxPooling2D(pool_size=(2, 2)))\n",
    "\n",
    "model.add(Conv2D(64, (3, 3), padding='same'))\n",
    "model.add(Activation('relu'))\n",
    "model.add(MaxPooling2D(pool_size=(2, 2)))\n",
    "\n",
    "model.add(Conv2D(128, (3, 3), padding='same'))\n",
    "model.add(Activation('relu'))\n",
    "model.add(MaxPooling2D(pool_size=(2, 2)))\n",
    "\n",
    "model.add(Flatten())  # this converts our 3D feature maps to 1D feature vectors\n",
    "model.add(Dense(128))\n",
    "model.add(Activation('relu'))\n",
    "model.add(Dropout(0.5))\n",
    "model.add(Dense(43))\n",
    "model.add(Activation('softmax'))\n",
    "\n",
    "model.compile(loss='sparse_categorical_crossentropy', optimizer='adam', metrics=['accuracy'])"
   ]
  },
  {
   "cell_type": "code",
   "execution_count": 17,
   "metadata": {},
   "outputs": [
    {
     "name": "stdout",
     "output_type": "stream",
     "text": [
      "Epoch 1/15\n",
      "981/981 [==============================] - 45s 43ms/step - loss: 2.4333 - accuracy: 0.3003 - val_loss: 1.1974 - val_accuracy: 0.6070\n",
      "Epoch 2/15\n",
      "981/981 [==============================] - 49s 50ms/step - loss: 1.0975 - accuracy: 0.6321 - val_loss: 0.4521 - val_accuracy: 0.8651\n",
      "Epoch 3/15\n",
      "981/981 [==============================] - 44s 45ms/step - loss: 0.6472 - accuracy: 0.7818 - val_loss: 0.1848 - val_accuracy: 0.9543\n",
      "Epoch 4/15\n",
      "981/981 [==============================] - 46s 47ms/step - loss: 0.4269 - accuracy: 0.8606 - val_loss: 0.1383 - val_accuracy: 0.9628\n",
      "Epoch 5/15\n",
      "981/981 [==============================] - 45s 45ms/step - loss: 0.3228 - accuracy: 0.8941 - val_loss: 0.0833 - val_accuracy: 0.9740\n",
      "Epoch 6/15\n",
      "981/981 [==============================] - 44s 45ms/step - loss: 0.2558 - accuracy: 0.9190 - val_loss: 0.0950 - val_accuracy: 0.9679\n",
      "Epoch 7/15\n",
      "981/981 [==============================] - 44s 45ms/step - loss: 0.2104 - accuracy: 0.9323 - val_loss: 0.0379 - val_accuracy: 0.9890\n",
      "Epoch 8/15\n",
      "981/981 [==============================] - 44s 45ms/step - loss: 0.1800 - accuracy: 0.9452 - val_loss: 0.0339 - val_accuracy: 0.9889\n",
      "Epoch 9/15\n",
      "981/981 [==============================] - 44s 44ms/step - loss: 0.1581 - accuracy: 0.9504 - val_loss: 0.0295 - val_accuracy: 0.9912\n",
      "Epoch 10/15\n",
      "981/981 [==============================] - 44s 45ms/step - loss: 0.1374 - accuracy: 0.9580 - val_loss: 0.0327 - val_accuracy: 0.9897\n",
      "Epoch 11/15\n",
      "981/981 [==============================] - 47s 48ms/step - loss: 0.1273 - accuracy: 0.9616 - val_loss: 0.0277 - val_accuracy: 0.9920\n",
      "Epoch 12/15\n",
      "981/981 [==============================] - 46s 47ms/step - loss: 0.1127 - accuracy: 0.9647 - val_loss: 0.0261 - val_accuracy: 0.9916\n",
      "Epoch 13/15\n",
      "981/981 [==============================] - 46s 47ms/step - loss: 0.0991 - accuracy: 0.9695 - val_loss: 0.0266 - val_accuracy: 0.9912\n",
      "Epoch 14/15\n",
      "981/981 [==============================] - 45s 46ms/step - loss: 0.0961 - accuracy: 0.9716 - val_loss: 0.0196 - val_accuracy: 0.9930\n",
      "Epoch 15/15\n",
      "981/981 [==============================] - 45s 46ms/step - loss: 0.0811 - accuracy: 0.9760 - val_loss: 0.0194 - val_accuracy: 0.9936\n"
     ]
    }
   ],
   "source": [
    "aug = ImageDataGenerator(\n",
    "    rotation_range=10,\n",
    "    zoom_range=0.15,\n",
    "    width_shift_range=0.1,\n",
    "    height_shift_range=0.1,\n",
    "    shear_range=0.15,\n",
    "    horizontal_flip=False,\n",
    "    vertical_flip=False,\n",
    "    fill_mode=\"nearest\")\n",
    "\n",
    "model.fit(aug.flow(X_train, y_train, batch_size=32), epochs=15, validation_data=(X_val, y_val))\n",
    "\n",
    "model.save('my_model2.h5')  # always save your weights after training or during training"
   ]
  },
  {
   "cell_type": "code",
   "execution_count": 19,
   "metadata": {},
   "outputs": [],
   "source": [
    "#testing accuracy on test dataset\n",
    "from sklearn.metrics import accuracy_score\n",
    "\n",
    "y_test = pd.read_csv('Test.csv')\n",
    "\n",
    "labels = y_test[\"ClassId\"].values\n",
    "imgs = y_test[\"Path\"].values"
   ]
  },
  {
   "cell_type": "code",
   "execution_count": 31,
   "metadata": {},
   "outputs": [
    {
     "name": "stdout",
     "output_type": "stream",
     "text": [
      "395/395 [==============================] - 6s 15ms/step\n",
      "0.9231987331749802\n"
     ]
    }
   ],
   "source": [
    "data=[]\n",
    "\n",
    "for img in imgs:\n",
    "    image = Image.open(img)\n",
    "    image = image.resize((30,30))\n",
    "    data.append(np.array(image))\n",
    "\n",
    "X_test=np.array(data)\n",
    "\n",
    "#pred = model.predict_classes(X_test)  \n",
    "\n",
    "pred = np.argmax(model.predict(X_test), axis=-1)\n",
    "\n",
    "#Accuracy with the test data\n",
    "from sklearn.metrics import accuracy_score\n",
    "print(accuracy_score(labels, pred))"
   ]
  },
  {
   "cell_type": "code",
   "execution_count": 22,
   "metadata": {},
   "outputs": [],
   "source": [
    "from keras.models import load_model\n",
    "model = load_model('my_model2.h5')\n"
   ]
  },
  {
   "cell_type": "code",
   "execution_count": 36,
   "metadata": {},
   "outputs": [],
   "source": [
    "path = r'Test\\00008.png'"
   ]
  },
  {
   "cell_type": "code",
   "execution_count": 37,
   "metadata": {},
   "outputs": [
    {
     "name": "stdout",
     "output_type": "stream",
     "text": [
      "1/1 [==============================] - 0s 20ms/step\n",
      "Road work\n"
     ]
    }
   ],
   "source": [
    "img = image.load_img(path, target_size = (30,30)) #load the image\n",
    "x = image.img_to_array(img)\n",
    "x = np.expand_dims(x, axis=0)\n",
    "images = np.vstack([x])\n",
    "\n",
    "value = classes = np.argmax(model.predict(images,batch_size=32),axis=-1) #predict the label for the image\n",
    "\n",
    "if classes[0]==0:\n",
    "    print('Speed limit (20km/h)') #print the content\n",
    "\n",
    "elif classes[0]==1:\n",
    "    print('Speed limit (30km/h)') #print the content\n",
    "\n",
    "elif classes[0]==2:\n",
    "    print('Speed limit (50km/h)') #print the content\n",
    "\n",
    "elif classes[0]==3:\n",
    "    print(' Speed limit (60km/h)') #print the content\n",
    "\n",
    "elif classes[0]==4:\n",
    "    print('Speed limit (70km/h)') #print the content\n",
    "\n",
    "elif classes[0]==5:\n",
    "    print('Speed limit (80km/h)') #print the content\n",
    "\n",
    "elif classes[0]==6:\n",
    "    print('End of speed limit (80km/h)') #print the content\n",
    "\n",
    "elif classes[0]==7:\n",
    "    print('Speed limit (100km/h)') #print the content\n",
    "\n",
    "elif classes[0]==8:\n",
    "    print('Speed limit (120km/h)') #print the content\n",
    "\n",
    "elif classes[0]==9:\n",
    "    print('No passing') #print the content\n",
    "        \n",
    "elif classes[0]==10:\n",
    "    print('No passing veh over 3.5 tons') #print the content \n",
    "        \n",
    "elif classes[0]==11:\n",
    "    print(', Right-of-way at intersection') #print the content\n",
    "        \n",
    "elif classes[0]==12:\n",
    "    print('Priority road') #print the content\n",
    "        \n",
    "elif classes[0]==13:\n",
    "    print('Yield') #print the content       \n",
    "        \n",
    "elif classes[0]==14:\n",
    "    print('Stop') #print the content       \n",
    "        \n",
    "elif classes[0]==15:\n",
    "    print('No vehicles') #print the content\n",
    "                \n",
    "elif classes[0]==16:\n",
    "    print('Veh > 3.5 tons prohibited') #print the content       \n",
    "        \n",
    "elif classes[0]==17:\n",
    "    print('No entry') #print the content        \n",
    "                       \n",
    "elif classes[0]==18:\n",
    "    print('General caution') #print the content       \n",
    "                \n",
    "elif classes[0]==19:\n",
    "    print('Dangerous curve left') #print the content        \n",
    "        \n",
    "elif classes[0]==20:\n",
    "    print('Dangerous curve right') #print the content        \n",
    "        \n",
    "elif classes[0]==21:\n",
    "    print('Double curve') #print the content       \n",
    "        \n",
    "elif classes[0]==22:\n",
    "    print('Bumpy road') #print the content        \n",
    "                \n",
    "elif classes[0]==23:\n",
    "    print('Slippery road') #print the content        \n",
    "        \n",
    "elif classes[0]==24:\n",
    "    print('Road narrows on the right') #print the content               \n",
    "        \n",
    "elif classes[0]==25:\n",
    "    print('Road work') #print the content        \n",
    "        \n",
    "elif classes[0]==26:\n",
    "    print('Traffic signals') #print the content\n",
    "        \n",
    "elif classes[0]==27:\n",
    "    print('Pedestrians') #print the content       \n",
    "                \n",
    "elif classes[0]==28:\n",
    "    print('Children crossing') #print the content\n",
    "        \n",
    "elif classes[0]==29:\n",
    "    print( 'Bicycles crossing') #print the content\n",
    "               \n",
    "elif classes[0]==30:\n",
    "    print('Beware of ice/snow') #print the content        \n",
    "        \n",
    "elif classes[0]==31:\n",
    "    print('Wild animals crossing') #print the content        \n",
    "               \n",
    "elif classes[0]==32:\n",
    "    print('End speed + passing limits') #print the content        \n",
    "        \n",
    "elif classes[0]==33:\n",
    "    print('Turn right ahead') #print the content\n",
    "        \n",
    "elif classes[0]==34:\n",
    "    print('Turn left ahead') #print the content        \n",
    "        \n",
    "elif classes[0]==35:\n",
    "    print('Ahead only') #print the content        \n",
    "        \n",
    "elif classes[0]==36:\n",
    "    print('Go straight or right') #print the content\n",
    "        \n",
    "elif classes[0]==37:\n",
    "    print('Go straight or left') #print the content        \n",
    "        \n",
    "elif classes[0]==38:\n",
    "    print('Keep right') #print the content\n",
    "        \n",
    "elif classes[0]==39:\n",
    "    print('Keep left') #print the content       \n",
    "        \n",
    "elif classes[0]==40:\n",
    "    print('Roundabout mandatory') #print the content\n",
    "\n",
    "elif classes[0]==41:\n",
    "    print('End of no passing') #print the content        \n",
    "        \n",
    "else:\n",
    "    print('End no passing veh > 3.5 tons') #print the content"
   ]
  },
  {
   "cell_type": "code",
   "execution_count": null,
   "metadata": {},
   "outputs": [],
   "source": []
  }
 ],
 "metadata": {
  "kernelspec": {
   "display_name": "opencv",
   "language": "python",
   "name": "opencv"
  },
  "language_info": {
   "codemirror_mode": {
    "name": "ipython",
    "version": 3
   },
   "file_extension": ".py",
   "mimetype": "text/x-python",
   "name": "python",
   "nbconvert_exporter": "python",
   "pygments_lexer": "ipython3",
   "version": "3.8.16"
  }
 },
 "nbformat": 4,
 "nbformat_minor": 4
}
